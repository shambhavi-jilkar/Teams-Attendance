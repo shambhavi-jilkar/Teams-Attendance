# 6B

# Define Path

import pandas as  pd
import numpy as np
doc = pd.read_excel('VI B August Attendance.xlsx',
                   sheet_name='FRENCH',
                   skiprows=8)
doc['Student First Name'] = doc['Student First Name'].str.strip()
doc['Last Name'] = doc['Last Name'].str.strip()
doc['Full Name'] = doc['Student First Name'].map(str) + '.' + doc['Last Name'].map(str)
doc

for filename in os.listdir(path):    
    #print(filename)
    import re
    regex = re.compile("\d+$")
    day = [(x) for x in regex.findall(filename)]
    #print(day)
    if int(day[0]) in doc.columns:
        col = int(day[0])
    elif day[0]+' Sat' in doc.columns:
        col = day[0]+' Sat'
    f = open(filename, "r",encoding='utf-16')
    readfile = f.read()
    for i in doc['Full Name']:    
        if i in readfile:
            row = doc.index[doc['Full Name']==i]
            doc.at[row,col]='P'
            print(doc.loc[row,col])
        else:
            row = doc.index[doc['Full Name']==i]
            doc.at[row,col]='A'
            print(doc.loc[row,col])

doc.to_excel('6B August Attendance done.xlsx')
